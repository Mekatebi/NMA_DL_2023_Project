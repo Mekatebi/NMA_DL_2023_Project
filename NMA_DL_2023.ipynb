{
  "nbformat": 4,
  "nbformat_minor": 0,
  "metadata": {
    "colab": {
      "provenance": [],
      "authorship_tag": "ABX9TyM8E5+7182pG1ZYguX+ZgZ/",
      "include_colab_link": true
    },
    "kernelspec": {
      "name": "python3",
      "display_name": "Python 3"
    },
    "language_info": {
      "name": "python"
    }
  },
  "cells": [
    {
      "cell_type": "markdown",
      "metadata": {
        "id": "view-in-github",
        "colab_type": "text"
      },
      "source": [
        "<a href=\"https://colab.research.google.com/github/Mekatebi/NMA_DL_2023_Project/blob/main/NMA_DL_2023.ipynb\" target=\"_parent\"><img src=\"https://colab.research.google.com/assets/colab-badge.svg\" alt=\"Open In Colab\"/></a>"
      ]
    },
    {
      "cell_type": "markdown",
      "source": [
        "# Codes for NMA DL 2023 projects G2\n",
        "[Doc](https://docs.google.com/document/d/1Oh_WXq_B8Tlgt-A1j7EOfHFZrHP-iDAI1nQmS0hMD6w)"
      ],
      "metadata": {
        "id": "xWSpp6sGNpTb"
      }
    },
    {
      "cell_type": "markdown",
      "source": [
        "## Fine-Tune BERT on Mental Health Dataset"
      ],
      "metadata": {
        "id": "CwjFpVpqO4Rb"
      }
    },
    {
      "cell_type": "code",
      "execution_count": null,
      "metadata": {
        "id": "z-XlhdUTMnFi"
      },
      "outputs": [],
      "source": [
        "!pip install transformers\n",
        "!pip install datasets\n",
        "!pip install transformers[torch]"
      ]
    },
    {
      "cell_type": "code",
      "source": [
        "from transformers import BertTokenizer, BertForSequenceClassification, Trainer, TrainingArguments\n",
        "from sklearn.preprocessing import LabelEncoder\n",
        "from datasets import load_dataset\n",
        "import torch\n",
        "\n",
        "dataset = load_dataset(\"quocanh34/mental_health_dataset_1\")\n",
        "\n",
        "def not_none(example):\n",
        "    return example['body'] is not None\n",
        "\n",
        "dataset = dataset.filter(not_none)\n",
        "\n",
        "dataset_sampled = dataset['train'].train_test_split(test_size=0.7, seed=42)['train']\n",
        "\n",
        "train_val_test = dataset_sampled.train_test_split(test_size=0.2, seed=42)\n",
        "train_dataset = train_val_test['train']\n",
        "test_val_dataset = train_val_test['test']\n",
        "\n",
        "test_val_split = test_val_dataset.train_test_split(test_size=0.5, seed=42)\n",
        "validation_dataset = test_val_split['train']\n",
        "test_dataset = test_val_split['test']\n",
        "\n",
        "columns_to_keep = ['body', 'subreddit']\n",
        "\n",
        "columns_to_remove = [col for col in dataset_sampled.column_names if col not in columns_to_keep]\n",
        "\n",
        "train_dataset = train_dataset.remove_columns(columns_to_remove)\n",
        "validation_dataset = validation_dataset.remove_columns(columns_to_remove)\n",
        "test_dataset = test_dataset.remove_columns(columns_to_remove)\n",
        "\n",
        "le = LabelEncoder()\n",
        "\n",
        "le.fit(dataset_sampled['subreddit'])\n",
        "\n",
        "def encode_labels(example):\n",
        "    example['subreddit'] = le.transform([example['subreddit']])[0]\n",
        "    return example\n",
        "\n",
        "train_dataset = train_dataset.map(encode_labels)\n",
        "validation_dataset = validation_dataset.map(encode_labels)\n",
        "test_dataset = test_dataset.map(encode_labels)\n",
        "\n",
        "tokenizer = BertTokenizer.from_pretrained('bert-base-uncased')\n",
        "\n",
        "def prepare_data(example):\n",
        "    encoding = tokenizer.encode_plus(\n",
        "        example['body'],\n",
        "        truncation=True,\n",
        "        padding='max_length',\n",
        "        max_length=512,\n",
        "        return_tensors='pt',\n",
        "    )\n",
        "    return {\n",
        "        'input_ids': encoding['input_ids'].flatten(),\n",
        "        'attention_mask': encoding['attention_mask'].flatten(),\n",
        "        'labels': torch.tensor(example['subreddit'], dtype=torch.long)\n",
        "    }\n",
        "\n",
        "train_dataset = train_dataset.map(prepare_data)\n",
        "validation_dataset = validation_dataset.map(prepare_data)\n",
        "test_dataset = test_dataset.map(prepare_data)\n",
        "\n",
        "train_dataset.set_format(type='torch', columns=['input_ids', 'attention_mask', 'labels'])\n",
        "validation_dataset.set_format(type='torch', columns=['input_ids', 'attention_mask', 'labels'])\n",
        "test_dataset.set_format(type='torch', columns=['input_ids', 'attention_mask', 'labels'])\n",
        "\n",
        "model = BertForSequenceClassification.from_pretrained('bert-base-uncased', num_labels=len(le.classes_))\n",
        "\n",
        "training_args = TrainingArguments(\n",
        "    output_dir='./results',\n",
        "    num_train_epochs=2,\n",
        "    per_device_train_batch_size=16,\n",
        "    per_device_eval_batch_size=16,\n",
        "    warmup_steps=500,\n",
        "    weight_decay=0.01,\n",
        "    logging_dir='./logs',\n",
        ")\n",
        "\n",
        "trainer = Trainer(\n",
        "    model=model,\n",
        "    args=training_args,\n",
        "    train_dataset=train_dataset,\n",
        "    eval_dataset=validation_dataset,\n",
        ")\n",
        "\n",
        "trainer.train()\n",
        "\n",
        "trainer.evaluate(test_dataset)"
      ],
      "metadata": {
        "id": "RfYt-aCQPaC-"
      },
      "execution_count": null,
      "outputs": []
    }
  ]
}